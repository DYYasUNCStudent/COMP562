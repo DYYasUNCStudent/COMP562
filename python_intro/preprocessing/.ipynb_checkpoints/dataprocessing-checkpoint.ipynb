{
 "cells": [
  {
   "cell_type": "code",
   "execution_count": 2,
   "metadata": {},
   "outputs": [],
   "source": [
    "from sklearn import preprocessing\n",
    "from sklearn import impute\n",
    "import numpy as np"
   ]
  },
  {
   "cell_type": "markdown",
   "metadata": {},
   "source": [
    "## Data scaling using StandardScaler\n",
    "\n",
    "In general, two step process for each matrix column:\n",
    "1. **fit** step: Compute the mean $\\mu$ and standard deviation ($\\sigma$)\n",
    "2. **transform** step: Scale using mean and standard deviation\n",
    "\n",
    "\\begin{equation}\n",
    "X_{scaled} = (X - \\mu) / \\sigma\n",
    "\\end{equation}\n",
    "<br/>\n",
    "\n",
    "**Note**: Can perform fit and transform in one step (`fit_transform`). Example is provided below.\n",
    "\n",
    "#### Documentation:\n",
    "- <a href=\"https://scikit-learn.org/stable/modules/generated/sklearn.preprocessing.StandardScaler.html#sklearn.preprocessing.StandardScaler\">StandardScaler</a>"
   ]
  },
  {
   "cell_type": "code",
   "execution_count": 11,
   "metadata": {},
   "outputs": [
    {
     "name": "stdout",
     "output_type": "stream",
     "text": [
      "[[ 1. -1.  2.]\n",
      " [ 2.  0.  0.]\n",
      " [ 0.  1. -1.]]\n",
      "(3, 3)\n",
      "mean = [1.         0.         0.33333333]\n",
      "variance = [0.66666667 0.66666667 1.55555556]\n",
      "[[0.558812   0.16923081 0.81280186]\n",
      " [0.92962664 0.06064424 0.52665387]\n",
      " [0.01464053 0.88218252 0.90599068]]\n",
      "(3, 3)\n",
      "[[-0.54034274  0.20726456  0.38443006]\n",
      " [-0.08618941  0.07427372  0.15500126]\n",
      " [-1.20681396  1.08044852  0.45914734]]\n"
     ]
    }
   ],
   "source": [
    "# data matrix\n",
    "X = np.array([[ 1., -1.,  2.], [ 2.,  0.,  0.], [ 0.,  1., -1.]])\n",
    "print( X )\n",
    "print( X.shape )\n",
    "\n",
    "# create a standard scaler model\n",
    "model = preprocessing.StandardScaler()\n",
    "\n",
    "# fit the model\n",
    "model.fit( X )\n",
    "\n",
    "# print the model attributes\n",
    "print( \"mean = {}\".format( model.mean_ ) )\n",
    "print( \"variance = {}\".format( model.var_ ) )\n",
    "\n",
    "# apply the model to unseen data\n",
    "Z = np.random.rand( 3, 3 )\n",
    "print( Z )\n",
    "print( Z.shape ) \n",
    "\n",
    "# transform data using learned model attributes\n",
    "Z_tx = model.transform( Z )\n",
    "print( Z_tx )"
   ]
  },
  {
   "cell_type": "markdown",
   "metadata": {},
   "source": [
    "## Data scaling using MinMaxScaler\n",
    "\n",
    "In general, two step process for each matrix column:\n",
    "1. Subtract minimum then scale using maximum and minimum difference. This will scale the value in $[0~1]$ \n",
    "\n",
    "\\begin{equation}\n",
    "\\acute{X} = (X - X_{min}) / (X_{max} - X_{min})\n",
    "\\end{equation}\n",
    "<br/>\n",
    "2. Scale to a new minumum and maximum (if other than $[0~1]$). This will scale the value in $[min~max]$.\n",
    "\n",
    "\\begin{equation}\n",
    "X_{scaled} = \\acute{X} * (max - min) + min\n",
    "\\end{equation}\n",
    "\n",
    "#### Documentation:\n",
    "- <a href=\"https://scikit-learn.org/stable/modules/generated/sklearn.preprocessing.MinMaxScaler.html#sklearn.preprocessing.MinMaxScaler\">MinMaxScaler</a>"
   ]
  },
  {
   "cell_type": "code",
   "execution_count": 4,
   "metadata": {
    "scrolled": true
   },
   "outputs": [
    {
     "name": "stdout",
     "output_type": "stream",
     "text": [
      "[[ 1. -1.  2.]\n",
      " [ 2.  0.  0.]\n",
      " [ 0.  1. -1.]\n",
      " [ 1.  0. -1.]]\n",
      "(4, 3)\n",
      "max = [2. 1. 2.]\n",
      "min = [ 0. -1. -1.]\n",
      "[[0.5        0.         1.        ]\n",
      " [1.         0.5        0.33333333]\n",
      " [0.         1.         0.        ]\n",
      " [0.5        0.5        0.        ]]\n",
      "(3, 3)\n",
      "[[0.58558157 0.98236996 0.45718929]\n",
      " [0.91312806 0.2077435  0.05437107]\n",
      " [0.20781968 0.05968542 0.47237055]]\n",
      "[[0.29279079 0.99118498 0.48572976]\n",
      " [0.45656403 0.60387175 0.35145702]\n",
      " [0.10390984 0.52984271 0.49079018]]\n"
     ]
    }
   ],
   "source": [
    "# data matrix\n",
    "X = np.array([[ 1., -1.,  2.], [ 2.,  0.,  0.], [ 0.,  1., -1.], [ 1.,  0., -1.]])\n",
    "print( X )\n",
    "print( X.shape )\n",
    "\n",
    "# create a MinMax model\n",
    "model = preprocessing.MinMaxScaler()\n",
    "# fit the model\n",
    "X_tx = model.fit_transform( X )\n",
    "\n",
    "# print the model attributes\n",
    "print( \"max = {}\".format( model.data_max_ ) )\n",
    "print( \"min = {}\".format( model.data_min_ ) )\n",
    "print( X_tx )\n",
    "\n",
    "# apply the model to unseen data\n",
    "Z = np.random.rand( 3, 3 )\n",
    "print( Z.shape )\n",
    "print( Z )\n",
    "\n",
    "# transform data using learned model attributes\n",
    "Z_tx = model.transform( Z )\n",
    "print( Z_tx )"
   ]
  },
  {
   "cell_type": "markdown",
   "metadata": {},
   "source": [
    "## Data scaling using L1 and L2 norms\n",
    "\n",
    "In general, the `p-norm` is $||x||_p$ where $x$ is a vector with $i$ components. \n",
    "\n",
    "Specifically, the `p-norm` is defined as:\n",
    "\n",
    "\\begin{equation}\n",
    "||x||_p=(\\sum_i|x_i|^p)^{1/p}\n",
    "\\end{equation}\n",
    " \n",
    "The simplest norm conceptually is `L2` (Euclidean) distance.\n",
    "\n",
    "\\begin{equation}\n",
    "||x||_2=\\sqrt{\\sum_i|x_i|^2}\n",
    "\\end{equation}\n",
    " \n",
    "Another common norm is `L1` (taxicab) distance.\n",
    "\n",
    "\\begin{equation}\n",
    "||x||_1=\\sum_i|x_i|\n",
    "\\end{equation}\n",
    "\n",
    "#### Documentation:\n",
    "- <a href=\"https://scikit-learn.org/stable/modules/generated/sklearn.preprocessing.Normalizer.html#sklearn.preprocessing.Normalizer\">Normalizer</a>"
   ]
  },
  {
   "cell_type": "code",
   "execution_count": 7,
   "metadata": {},
   "outputs": [
    {
     "name": "stdout",
     "output_type": "stream",
     "text": [
      "[[ 1. -1.  2.]\n",
      " [ 2.  0.  0.]\n",
      " [ 0.  1. -1.]]\n",
      "(3, 3)\n",
      "[[ 0.25 -0.25  0.5 ]\n",
      " [ 1.    0.    0.  ]\n",
      " [ 0.    0.5  -0.5 ]]\n"
     ]
    }
   ],
   "source": [
    "# our data matrix example\n",
    "X = np.array([[ 1., -1.,  2.], [ 2.,  0.,  0.], [ 0.,  1., -1.]])\n",
    "print( X )\n",
    "print( X.shape )\n",
    "\n",
    "# create a normalizer model\n",
    "model = preprocessing.Normalizer(norm=\"l1\")\n",
    "# fit the model\n",
    "X_tx = model.fit_transform( X )\n",
    "\n",
    "# notice row operation instead of column!!\n",
    "print( X_tx )"
   ]
  },
  {
   "cell_type": "markdown",
   "metadata": {},
   "source": [
    "## Data imputation using SimpleImputer\n",
    "\n",
    "For a column in the matrix, replace missing values using a descriptive statistic such as: `mean`, `median`, `most frequent`, or `constant` value.\n",
    "\n",
    "#### Documentation:\n",
    "- <a href=\"https://scikit-learn.org/stable/modules/generated/sklearn.impute.SimpleImputer.html\">SimpleImputer</a>"
   ]
  },
  {
   "cell_type": "code",
   "execution_count": 5,
   "metadata": {},
   "outputs": [
    {
     "name": "stdout",
     "output_type": "stream",
     "text": [
      "[[ 1. nan  2.]\n",
      " [ 2.  0.  0.]\n",
      " [ 0.  1. nan]]\n",
      "(3, 3)\n",
      "[[1.  0.5 2. ]\n",
      " [2.  0.  0. ]\n",
      " [0.  1.  1. ]]\n"
     ]
    }
   ],
   "source": [
    "# our data matrix example\n",
    "X = np.array([[ 1., np.nan,  2.], [ 2.,  0.,  0.], [ 0.,  1., np.nan]])\n",
    "print( X )\n",
    "print( X.shape )\n",
    "\n",
    "# create a simple imputer model\n",
    "model = impute.SimpleImputer(missing_values=np.nan, strategy='mean')\n",
    "# fit the model\n",
    "X_tx = model.fit_transform( X )\n",
    "\n",
    "# replace nan with mean\n",
    "print( X_tx )"
   ]
  },
  {
   "cell_type": "code",
   "execution_count": null,
   "metadata": {},
   "outputs": [],
   "source": []
  }
 ],
 "metadata": {
  "kernelspec": {
   "display_name": "Python 3",
   "language": "python",
   "name": "python3"
  },
  "language_info": {
   "codemirror_mode": {
    "name": "ipython",
    "version": 3
   },
   "file_extension": ".py",
   "mimetype": "text/x-python",
   "name": "python",
   "nbconvert_exporter": "python",
   "pygments_lexer": "ipython3",
   "version": "3.8.5"
  }
 },
 "nbformat": 4,
 "nbformat_minor": 4
}
